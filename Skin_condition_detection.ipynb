{
 "cells": [
  {
   "cell_type": "code",
   "execution_count": null,
   "id": "47a66828",
   "metadata": {},
   "outputs": [
    {
     "name": "stderr",
     "output_type": "stream",
     "text": [
      "\n",
      "[notice] A new release of pip is available: 25.0.1 -> 25.1\n",
      "[notice] To update, run: python.exe -m pip install --upgrade pip\n"
     ]
    }
   ],
   "source": [
    "!pip install -q google-generativeai"
   ]
  },
  {
   "cell_type": "code",
   "execution_count": null,
   "id": "7e7593d2",
   "metadata": {},
   "outputs": [
    {
     "name": "stderr",
     "output_type": "stream",
     "text": [
      "c:\\Users\\priya\\Desktop\\python\\venv\\Lib\\site-packages\\tqdm\\auto.py:21: TqdmWarning: IProgress not found. Please update jupyter and ipywidgets. See https://ipywidgets.readthedocs.io/en/stable/user_install.html\n",
      "  from .autonotebook import tqdm as notebook_tqdm\n"
     ]
    }
   ],
   "source": [
    "import os\n",
    "from getpass import getpass\n",
    "import google.generativeai as genai"
   ]
  },
  {
   "cell_type": "code",
   "execution_count": null,
   "id": "5dbd3a0b",
   "metadata": {},
   "outputs": [],
   "source": [
    "from getpass import getpass\n",
    "\n",
    "if os.getenv(\"GEMINI_API_KEY\") is None:\n",
    "    os.environ[\"GEMINI_API_KEY\"] = getpass(\"Please enter your Gemini API key: \")\n",
    "\n",
    "genai.configure(api_key=os.environ[\"GEMINI_API_KEY\"])\n"
   ]
  },
  {
   "cell_type": "code",
   "execution_count": null,
   "id": "6eb45d55",
   "metadata": {},
   "outputs": [],
   "source": [
    "from PIL import Image\n",
    "\n",
    "prompt = \"\"\"\n",
    "Please output your analysis based on the format below:\n",
    "\n",
    "Format examples:\n",
    "Image shows: Several closed whiteheads appear on the forehead and lower cheeks, with no visible redness or swelling.\n",
    "Diagnosis: Closed comedones\n",
    "Severity: Mild\n",
    "Features: Whiteheads, clustered distribution, no obvious inflammation\n",
    "\n",
    "Image shows: Multiple inflamed red papules appear on both cheeks, with some pustules on the lesions.\n",
    "Diagnosis: Inflammatory acne\n",
    "Severity: Moderate\n",
    "Features: Red papules, presence of pustules, localized redness\n",
    "\n",
    "Please follow the format above:\n",
    "Do not add extra commentary or explanations\n",
    "Start directly with “Image shows: …”\n",
    "Clearly label each section as Diagnosis / Severity / Features\n",
    "\"\"\"\n",
    "\n"
   ]
  },
  {
   "cell_type": "code",
   "execution_count": null,
   "id": "c127c41c",
   "metadata": {},
   "outputs": [
    {
     "name": "stdout",
     "output_type": "stream",
     "text": [
      "🔍 Analyzing: levle0_5.jpg\n",
      "❌ Failed to analyze levle0_5.jpg: name 'model' is not defined\n",
      "🔍 Analyzing: levle2_20.jpg\n",
      "❌ Failed to analyze levle2_20.jpg: name 'model' is not defined\n",
      "🔍 Analyzing: levle3_142.jpg\n",
      "❌ Failed to analyze levle3_142.jpg: name 'model' is not defined\n"
     ]
    }
   ],
   "source": [
    "image_folder = r\"C:\\Users\\priya\\Desktop\\extra material\\skinconditionproject\\JPEGImages\"\n",
    "image_files = [\n",
    "    \"levle0_5.jpg\",\n",
    "    \"levle2_20.jpg\",\n",
    "    \"levle3_142.jpg\"\n",
    "]\n",
    "\n",
    "for img_name in image_files:\n",
    "    try:\n",
    "        img_path = os.path.join(image_folder, img_name)\n",
    "        img = Image.open(img_path)\n",
    "        print(f\"🔍 Analyzing: {img_name}\")\n",
    "\n",
    "        response = model.generate_content([img, prompt])\n",
    "        print(\"🧠 Gemini replied:\")\n",
    "        print(response.text)\n",
    "        print(\"-\" * 60)\n",
    "\n",
    "    except Exception as e:\n",
    "        print(f\"❌ Failed to analyze {img_name}: {e}\")"
   ]
  },
  {
   "cell_type": "code",
   "execution_count": 10,
   "id": "4473c159",
   "metadata": {},
   "outputs": [
    {
     "data": {
      "text/html": [
       "<div>\n",
       "<style scoped>\n",
       "    .dataframe tbody tr th:only-of-type {\n",
       "        vertical-align: middle;\n",
       "    }\n",
       "\n",
       "    .dataframe tbody tr th {\n",
       "        vertical-align: top;\n",
       "    }\n",
       "\n",
       "    .dataframe thead th {\n",
       "        text-align: right;\n",
       "    }\n",
       "</style>\n",
       "<table border=\"1\" class=\"dataframe\">\n",
       "  <thead>\n",
       "    <tr style=\"text-align: right;\">\n",
       "      <th></th>\n",
       "      <th>Condition</th>\n",
       "      <th>Description</th>\n",
       "      <th>Causes</th>\n",
       "      <th>Recommended Ingredients</th>\n",
       "      <th>Care Tips</th>\n",
       "      <th>When to Seek Help</th>\n",
       "      <th>Source URL</th>\n",
       "    </tr>\n",
       "  </thead>\n",
       "  <tbody>\n",
       "    <tr>\n",
       "      <th>0</th>\n",
       "      <td>Cystic acne</td>\n",
       "      <td>Large, red, painful breakouts deep in the skin.</td>\n",
       "      <td>Hormonal fluctuations (e.g., menstrual cycle, ...</td>\n",
       "      <td>Oral antibiotics, birth control pills, benzoyl...</td>\n",
       "      <td>Wash face twice a day, avoid scrubbing or popp...</td>\n",
       "      <td>If cysts are painful, recurrent, or cause scar...</td>\n",
       "      <td>https://www.webmd.com/skin-problems-and-treatm...</td>\n",
       "    </tr>\n",
       "    <tr>\n",
       "      <th>1</th>\n",
       "      <td>Blackheads</td>\n",
       "      <td>A type of acne that forms when dead skin cells...</td>\n",
       "      <td>Typically caused by oil buildup, clogged folli...</td>\n",
       "      <td>Salicylic acid, Retinoid creams and lotions (v...</td>\n",
       "      <td>Wash face regularly, avoid harsh scrubbing, us...</td>\n",
       "      <td>If blackheads persist or worsen despite regula...</td>\n",
       "      <td>https://www.webmd.com/skin-problems-and-treatm...</td>\n",
       "    </tr>\n",
       "    <tr>\n",
       "      <th>2</th>\n",
       "      <td>Inflammatory acne</td>\n",
       "      <td>Red, swollen, sore bumps containing pus, dead ...</td>\n",
       "      <td>Pores or follicles clogged with dead skin cell...</td>\n",
       "      <td>Azelaic acid, Benzoyl peroxide, Niacinamide, R...</td>\n",
       "      <td>Avoid touching face. Use non-comedogenic produ...</td>\n",
       "      <td>If inflammation persists or worsens despite ro...</td>\n",
       "      <td>https://my.clevelandclinic.org/health/diseases...</td>\n",
       "    </tr>\n",
       "    <tr>\n",
       "      <th>3</th>\n",
       "      <td>Post-inflammatory hyperpigmentation (PIH)</td>\n",
       "      <td>Temporary pigmentation following injury or inf...</td>\n",
       "      <td>Melanin deposition in keratinocytes due to epi...</td>\n",
       "      <td>Hydroquinone, Azelaic acid, Cysteamine, Vitami...</td>\n",
       "      <td>Apply SPF 50+ sunscreen daily to exposed areas...</td>\n",
       "      <td>If pigmentation worsens, persists, or causes e...</td>\n",
       "      <td>https://dermnetnz.org/topics/postinflammatory-...</td>\n",
       "    </tr>\n",
       "    <tr>\n",
       "      <th>4</th>\n",
       "      <td>Closed comedones</td>\n",
       "      <td>Closed comedones, or whiteheads, are small, fl...</td>\n",
       "      <td>Excess oil production, buildup of dead skin ce...</td>\n",
       "      <td>Salicylic acid, Retinoids (tretinoin, adapalen...</td>\n",
       "      <td>Cleanse gently twice a day. Avoid oily skincar...</td>\n",
       "      <td>If comedones persist, increase in number, or b...</td>\n",
       "      <td>Mayo Clinic / WebMD (compiled)</td>\n",
       "    </tr>\n",
       "  </tbody>\n",
       "</table>\n",
       "</div>"
      ],
      "text/plain": [
       "                                   Condition  \\\n",
       "0                                Cystic acne   \n",
       "1                                 Blackheads   \n",
       "2                          Inflammatory acne   \n",
       "3  Post-inflammatory hyperpigmentation (PIH)   \n",
       "4                           Closed comedones   \n",
       "\n",
       "                                         Description  \\\n",
       "0    Large, red, painful breakouts deep in the skin.   \n",
       "1  A type of acne that forms when dead skin cells...   \n",
       "2  Red, swollen, sore bumps containing pus, dead ...   \n",
       "3  Temporary pigmentation following injury or inf...   \n",
       "4  Closed comedones, or whiteheads, are small, fl...   \n",
       "\n",
       "                                              Causes  \\\n",
       "0  Hormonal fluctuations (e.g., menstrual cycle, ...   \n",
       "1  Typically caused by oil buildup, clogged folli...   \n",
       "2  Pores or follicles clogged with dead skin cell...   \n",
       "3  Melanin deposition in keratinocytes due to epi...   \n",
       "4  Excess oil production, buildup of dead skin ce...   \n",
       "\n",
       "                             Recommended Ingredients  \\\n",
       "0  Oral antibiotics, birth control pills, benzoyl...   \n",
       "1  Salicylic acid, Retinoid creams and lotions (v...   \n",
       "2  Azelaic acid, Benzoyl peroxide, Niacinamide, R...   \n",
       "3  Hydroquinone, Azelaic acid, Cysteamine, Vitami...   \n",
       "4  Salicylic acid, Retinoids (tretinoin, adapalen...   \n",
       "\n",
       "                                           Care Tips  \\\n",
       "0  Wash face twice a day, avoid scrubbing or popp...   \n",
       "1  Wash face regularly, avoid harsh scrubbing, us...   \n",
       "2  Avoid touching face. Use non-comedogenic produ...   \n",
       "3  Apply SPF 50+ sunscreen daily to exposed areas...   \n",
       "4  Cleanse gently twice a day. Avoid oily skincar...   \n",
       "\n",
       "                                   When to Seek Help  \\\n",
       "0  If cysts are painful, recurrent, or cause scar...   \n",
       "1  If blackheads persist or worsen despite regula...   \n",
       "2  If inflammation persists or worsens despite ro...   \n",
       "3  If pigmentation worsens, persists, or causes e...   \n",
       "4  If comedones persist, increase in number, or b...   \n",
       "\n",
       "                                          Source URL  \n",
       "0  https://www.webmd.com/skin-problems-and-treatm...  \n",
       "1  https://www.webmd.com/skin-problems-and-treatm...  \n",
       "2  https://my.clevelandclinic.org/health/diseases...  \n",
       "3  https://dermnetnz.org/topics/postinflammatory-...  \n",
       "4                     Mayo Clinic / WebMD (compiled)  "
      ]
     },
     "execution_count": 10,
     "metadata": {},
     "output_type": "execute_result"
    }
   ],
   "source": [
    "import pandas as pd\n",
    "db = pd.read_csv(r\"C:\\Users\\priya\\Desktop\\extra material\\skinconditionproject\\skin_condition_knowledge_new.csv\")\n",
    "db.head()\n"
   ]
  },
  {
   "cell_type": "code",
   "execution_count": 11,
   "id": "e288c31c",
   "metadata": {},
   "outputs": [
    {
     "name": "stdout",
     "output_type": "stream",
     "text": [
      "<class 'pandas.core.frame.DataFrame'>\n",
      "RangeIndex: 9 entries, 0 to 8\n",
      "Data columns (total 7 columns):\n",
      " #   Column                   Non-Null Count  Dtype \n",
      "---  ------                   --------------  ----- \n",
      " 0   Condition                9 non-null      object\n",
      " 1   Description              9 non-null      object\n",
      " 2   Causes                   9 non-null      object\n",
      " 3   Recommended Ingredients  9 non-null      object\n",
      " 4   Care Tips                9 non-null      object\n",
      " 5   When to Seek Help        9 non-null      object\n",
      " 6   Source URL               9 non-null      object\n",
      "dtypes: object(7)\n",
      "memory usage: 636.0+ bytes\n"
     ]
    }
   ],
   "source": [
    "db.info()"
   ]
  },
  {
   "cell_type": "code",
   "execution_count": null,
   "id": "8eda2c05",
   "metadata": {},
   "outputs": [],
   "source": [
    "def get_skin_care_recommendation(diagnosis, df):\n",
    "    \"\"\"\n",
    "    Search for recommended items in the knowledge base based on the Gemini diagnosis name.\n",
    "    diagnosis: The diagnosis name output by the model (e.g., 'inflammatory acne')\n",
    "    df: Knowledge base DataFrame\n",
    "    Returns a dict; if not found, returns a prompt dictionary.\n",
    "    \"\"\"\n",
    "    for _, row in df.iterrows():\n",
    "        if diagnosis.lower() in row[\"Condition\"].lower():\n",
    "            return {\n",
    "                \"Condition\": row[\"Condition\"],\n",
    "                \"Description\": row[\"Description\"],\n",
    "                \"Causes\": row[\"Causes\"],\n",
    "                \"Recommended Ingredients\": row[\"Recommended Ingredients\"],\n",
    "                \"Care Tips\": row[\"Care Tips\"],\n",
    "                \"When to Seek Help\": row[\"When to Seek Help\"],\n",
    "                \"Source URL\": row[\"Source URL\"]\n",
    "            }\n",
    "    return {\"Message\": \"No matching diagnosis found in knowledge base.\"}\n"
   ]
  },
  {
   "cell_type": "code",
   "execution_count": null,
   "id": "aa4e3a3c",
   "metadata": {},
   "outputs": [],
   "source": [
    "def generate_combined_response(diagnosis, df):\n",
    "    rec = get_skin_care_recommendation(diagnosis, df)\n",
    "\n",
    "    if \"Message\" in rec:\n",
    "        return f\"⚠️ Sorry, no guidance found for diagnosis: **{diagnosis}**.\"\n",
    "\n",
    "    response = f\"\"\"📋 **Diagnosis Result**: {rec['Condition']}\n",
    "\n",
    "🧾 **Condition Description**:\n",
    "{rec['Description']}\n",
    "\n",
    "🧪 **Likely Causes**:\n",
    "{rec['Causes']}\n",
    "\n",
    "💊 **Recommended Ingredients**:\n",
    "{rec['Recommended Ingredients']}\n",
    "\n",
    "🧼 **Daily Care Suggestions**:\n",
    "{rec['Care Tips']}\n",
    "\n",
    "🏥 **When to Seek Help**:\n",
    "{rec['When to Seek Help']}\n",
    "\n",
    "🔗 **Source**: {rec['Source URL']}\n",
    "\"\"\"\n",
    "    return response"
   ]
  },
  {
   "cell_type": "code",
   "execution_count": null,
   "id": "0c663485",
   "metadata": {},
   "outputs": [
    {
     "name": "stdout",
     "output_type": "stream",
     "text": [
      "🔍 Raw result from knowledge base query:\n",
      "Condition: Inflammatory acne\n",
      "Description: Red, swollen, sore bumps containing pus, dead skin cells, and excess oil.\n",
      "Causes: Pores or follicles clogged with dead skin cells, sebum, or oils. Ruptured pore walls spread inflammation deeper into the skin.\n",
      "Recommended Ingredients: Azelaic acid, Benzoyl peroxide, Niacinamide, Retinoids (tretinoin, adapalene), Salicylic acid, Topical/oral antibiotics, Hormonal therapy, Isotretinoin.\n",
      "Care Tips: Avoid touching face. Use non-comedogenic products. Don’t pop pimples. Eat a low-sugar diet. Wash and moisturize gently.\n",
      "When to Seek Help: If inflammation persists or worsens despite routine skincare, or if nodules/cysts form.\n",
      "Source URL: https://my.clevelandclinic.org/health/diseases/22765-inflammatory-acne\n",
      "\n",
      "🤖 Chatbot response output:\n",
      "📋 **Diagnosis Result**: Inflammatory acne\n",
      "\n",
      "🧾 **Condition Description**:\n",
      "Red, swollen, sore bumps containing pus, dead skin cells, and excess oil.\n",
      "\n",
      "🧪 **Likely Causes**:\n",
      "Pores or follicles clogged with dead skin cells, sebum, or oils. Ruptured pore walls spread inflammation deeper into the skin.\n",
      "\n",
      "💊 **Recommended Ingredients**:\n",
      "Azelaic acid, Benzoyl peroxide, Niacinamide, Retinoids (tretinoin, adapalene), Salicylic acid, Topical/oral antibiotics, Hormonal therapy, Isotretinoin.\n",
      "\n",
      "🧼 **Daily Care Suggestions**:\n",
      "Avoid touching face. Use non-comedogenic products. Don’t pop pimples. Eat a low-sugar diet. Wash and moisturize gently.\n",
      "\n",
      "🏥 **When to Seek Help**:\n",
      "If inflammation persists or worsens despite routine skincare, or if nodules/cysts form.\n",
      "\n",
      "🔗 **Source**: https://my.clevelandclinic.org/health/diseases/22765-inflammatory-acne\n",
      "\n"
     ]
    }
   ],
   "source": [
    "#test run\n",
    "\n",
    "if __name__ == \"__main__\":\n",
    "    test_diagnosis = \"inflammatory acne\"\n",
    "\n",
    "    print(\"🔍 Raw result from knowledge base query:\")\n",
    "    raw_result = get_skin_care_recommendation(test_diagnosis, db)\n",
    "    for key, value in raw_result.items():\n",
    "        print(f\"{key}: {value}\")\n",
    "\n",
    "    print(\"\\n🤖 Chatbot response output:\")\n",
    "    chatbot_reply = generate_combined_response(test_diagnosis, db)\n",
    "    print(chatbot_reply)"
   ]
  }
 ],
 "metadata": {
  "kernelspec": {
   "display_name": "venv",
   "language": "python",
   "name": "python3"
  },
  "language_info": {
   "codemirror_mode": {
    "name": "ipython",
    "version": 3
   },
   "file_extension": ".py",
   "mimetype": "text/x-python",
   "name": "python",
   "nbconvert_exporter": "python",
   "pygments_lexer": "ipython3",
   "version": "3.13.1"
  }
 },
 "nbformat": 4,
 "nbformat_minor": 5
}
